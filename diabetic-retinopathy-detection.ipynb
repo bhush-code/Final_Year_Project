{
 "cells": [
  {
   "cell_type": "code",
   "execution_count": 1,
   "metadata": {
    "_cell_guid": "b1076dfc-b9ad-4769-8c92-a6c4dae69d19",
    "_uuid": "8f2839f25d086af736a60e9eeb907d3b93b6e0e5",
    "scrolled": true
   },
   "outputs": [],
   "source": [
    "\n",
    "\n",
    "import numpy as np # linear algebra\n",
    "import pandas as pd # data processing, CSV file I/O (e.g. pd.read_csv)\n",
    "import os  # OS directoy Module\n",
    "import random #  to take  random input \n",
    "import sys\n",
    "import cv2 # \n",
    "import matplotlib # for ploting  Graph\n",
    "from subprocess import check_output\n",
    "\n",
    "from keras.models import Sequential # API higher than tenserflow  Deep learning \n",
    "from keras.layers import Dense, Conv2D, MaxPooling2D, Dropout, Flatten # Convolutional Algorithm\n",
    "from keras.preprocessing.image import ImageDataGenerator, array_to_img, img_to_array, load_img # array \n",
    "from keras.optimizers import Adam # optimize  \n",
    "from sklearn.model_selection import train_test_split # 35233 training and testing data\n",
    "from keras.utils import to_categorical # print or save model\n",
    "\n",
    "def classes_to_int(label):\n",
    "    # label = classes.index(dir)\n",
    "    label = label.strip()\n",
    "    if label == \"No DR\":  return 0\n",
    "    if label == \"Mild\":  return 1\n",
    "    if label == \"Moderate\":  return 2\n",
    "    if label == \"Severe\":  return 3\n",
    "    if label == \"Proliferative DR\":  return 4\n",
    "    print(\"Invalid Label\", label)\n",
    "    return 5\n",
    "\n",
    "def int_to_classes(i):\n",
    "    if i == 0: return \"No DR\"\n",
    "    elif i == 1: return \"Mild\"\n",
    "    elif i == 2: return \"Moderate\"\n",
    "    elif i == 3: return \"Severe\"\n",
    "    elif i == 4: return \"Proliferative DR\"\n",
    "    print(\"Invalid class \", i)\n",
    "    return \"Invalid Class\""
   ]
  },
  {
   "cell_type": "code",
   "execution_count": 2,
   "metadata": {
    "_uuid": "a8392f068f3887a4ef107e51530e2eb05fb3035a"
   },
   "outputs": [],
   "source": [
    "NUM_CLASSES = 5\n",
    "# we need images of same size so we convert them into the size\n",
    "WIDTH = 128\n",
    "HEIGHT = 128\n",
    "DEPTH = 3\n",
    "inputShape = (HEIGHT, WIDTH, DEPTH)\n",
    "# initialize number of epochs to train for, initial learning rate and batch size\n",
    "EPOCHS = 15\n",
    "INIT_LR = 1e-3\n",
    "BS = 32\n",
    "#global variables\n",
    "ImageNameDataHash = {}\n",
    "uniquePatientIDList = []"
   ]
  },
  {
   "cell_type": "code",
   "execution_count": 3,
   "metadata": {
    "_uuid": "18c3c3a9599a32a49199918bef643166cde51928"
   },
   "outputs": [],
   "source": [
    "def readTrainData(trainDir):\n",
    "    global ImageNameDataHash\n",
    "    # loop over the input images\n",
    "    images = os.listdir(trainDir)\n",
    "    print(\"Number of files in \" + trainDir + \" is \" + str(len(images)))\n",
    "    for imageFileName in images:\n",
    "        if (imageFileName == \"trainLabels.csv\"):\n",
    "            continue\n",
    "        # load the image, pre-process it, and store it in the data list\n",
    "        imageFullPath = os.path.join(os.path.sep, trainDir, imageFileName)\n",
    "        #print(imageFullPath)\n",
    "        img = load_img(imageFullPath)\n",
    "        arr = img_to_array(img)  # Numpy array with shape (233,233,3)\n",
    "        dim1 = arr.shape[0]\n",
    "        dim2 = arr.shape[1]\n",
    "        dim3 = arr.shape[2]\n",
    "        if (dim1 < HEIGHT or dim2 < WIDTH or dim3 < DEPTH):\n",
    "            print(\"Error image dimensions are less than expected \"+str(arr.shape))\n",
    "        arr = cv2.resize(arr, (HEIGHT,WIDTH)) #Numpy array with shape (HEIGHT, WIDTH,3)\n",
    "        #print(arr.shape) # 128,128,3\n",
    "        dim1 = arr.shape[0]\n",
    "        dim2 = arr.shape[1]\n",
    "        dim3 = arr.shape[2]\n",
    "        if (dim1 != HEIGHT or dim2 != WIDTH or dim3 != DEPTH):\n",
    "            print(\"Error after resize, image dimensions are not equal to expected \"+str(arr.shape))\n",
    "        #print(type(arr))\n",
    "        # scale the raw pixel intensities to the range [0, 1] - TBD TEST\n",
    "        arr = np.array(arr, dtype=\"float\") / 255.0\n",
    "        imageFileName = imageFileName.replace('.jpeg','')\n",
    "        ImageNameDataHash[str(imageFileName)] = np.array(arr) \n",
    "    return"
   ]
  },
  {
   "cell_type": "code",
   "execution_count": 4,
   "metadata": {
    "_uuid": "a255507029c703ab70b7bd82e2dba11487abf73a"
   },
   "outputs": [
    {
     "name": "stdout",
     "output_type": "stream",
     "text": [
      "Loading images at...2021-05-31 13:14:23.619786\n",
      "Number of files in /home/bhush/Images is 4401\n",
      "Loaded 4401 images at...2021-05-31 13:15:11.230059\n"
     ]
    }
   ],
   "source": [
    "from datetime import datetime\n",
    "print(\"Loading images at...\"+ str(datetime.now()))\n",
    "sys.stdout.flush()\n",
    "readTrainData(\"/home/bhush/Images\")\n",
    "print(\"Loaded \" + str(len(ImageNameDataHash)) + \" images at...\"+ str(datetime.now())) # 1000"
   ]
  },
  {
   "cell_type": "code",
   "execution_count": 5,
   "metadata": {
    "_cell_guid": "79c7e3d0-c299-4dcb-8224-4455121ee9b0",
    "_uuid": "d629ff2d2480ee46fbb7e2d37f6b5fab8052498a"
   },
   "outputs": [],
   "source": [
    "#csv contains image\tlevel\n",
    "#10_left 0\n",
    "#10_right 0\n",
    "import csv\n",
    "def readTrainCsv():\n",
    "    raw_df = pd.read_csv('/home/bhush/Sample/trainLabels.csv', sep=',')\n",
    "    print(type(raw_df)) #<class 'pandas.core.frame.DataFrame'>\n",
    "    row_count=raw_df.shape[0] #gives number of row count row_count=35126 \n",
    "    col_count=raw_df.shape[1] #gives number of col count col count=2\n",
    "    print(\"row_count=\"+str(row_count)+\" col count=\"+str(col_count))\n",
    "    raw_df[\"PatientID\"] = ''\n",
    "    header_list = list(raw_df.columns)\n",
    "    print(header_list) # ['image', 'level', 'PatientID']\n",
    "    # double check if level of left and right are same or not\n",
    "    ImageLevelHash = {}\n",
    "    patientIDList = []\n",
    "    for index, row in raw_df.iterrows():\n",
    "        # 0 is image, 1 is level, 2 is PatientID, 3 is data\n",
    "        key = row[0] + ''\n",
    "        patientID = row[0] + ''\n",
    "        patientID = patientID.replace('_right','')\n",
    "        patientID = patientID.replace('_left','')\n",
    "        #print(\"Adding patient ID\"+ patientID)\n",
    "        raw_df.at[index, 'PatientID'] = patientID\n",
    "        patientIDList.append(patientID)\n",
    "        ImageLevelHash[key] = str(row[1]) # level\n",
    "                \n",
    "    global uniquePatientIDList\n",
    "    uniquePatientIDList = sorted(set(patientIDList))\n",
    "    count=0;\n",
    "    for patientID in uniquePatientIDList:\n",
    "        left_level = ImageLevelHash[str(patientID+'_left')]\n",
    "        right_level = ImageLevelHash[str(patientID+'_right')]\n",
    "        #right_exists = str(patientID+'_right') in raw_df.values\n",
    "        if (left_level != right_level):\n",
    "            count = count+1\n",
    "            #print(\"Warning for patient=\"+ str(patientID) + \" left_level=\" + left_level+ \" right_level=\" +right_level)\n",
    "    print(\"count of images with both left and right eye level not matching=\"+str(count)) # 2240\n",
    "    print(\"number of unique patients=\"+str(len(uniquePatientIDList))) # 17563\n",
    "    return raw_df"
   ]
  },
  {
   "cell_type": "code",
   "execution_count": 6,
   "metadata": {
    "_uuid": "da157990920eda7c89bd96f6457cf2696d45b01b",
    "scrolled": true
   },
   "outputs": [
    {
     "name": "stdout",
     "output_type": "stream",
     "text": [
      "Reading trainLabels.csv...\n",
      "<class 'pandas.core.frame.DataFrame'>\n",
      "row_count=35126 col count=2\n",
      "['image', 'level', 'PatientID']\n",
      "count of images with both left and right eye level not matching=2240\n",
      "number of unique patients=17563\n"
     ]
    }
   ],
   "source": [
    "random.seed(10)\n",
    "print(\"Reading trainLabels.csv...\")\n",
    "df = readTrainCsv()"
   ]
  },
  {
   "cell_type": "code",
   "execution_count": 7,
   "metadata": {
    "_uuid": "bbceaf7b7abd5a2c2f562b63f2ead55c00e451e2"
   },
   "outputs": [
    {
     "name": "stdout",
     "output_type": "stream",
     "text": [
      "0 patient's patientID=10\n",
      "1 patient's patientID=10\n",
      "2 patient's patientID=13\n",
      "3 patient's patientID=13\n",
      "4 patient's patientID=15\n",
      "5 patient's patientID=15\n",
      "6 patient's patientID=16\n",
      "7 patient's patientID=16\n",
      "8 patient's patientID=17\n",
      "9 patient's patientID=17\n"
     ]
    }
   ],
   "source": [
    "for i in range(0,10):\n",
    "    s = df.loc[df.index[i], 'PatientID'] # get patient id of patients\n",
    "    print(str(i) + \" patient's patientID=\"+str(s))"
   ]
  },
  {
   "cell_type": "code",
   "execution_count": 8,
   "metadata": {
    "_uuid": "98a5849022c032a33b2d75f54ec2d05da2cd9245"
   },
   "outputs": [
    {
     "name": "stdout",
     "output_type": "stream",
     "text": [
      "4401\n"
     ]
    }
   ],
   "source": [
    "# df has 3 columns ['image', 'level', 'PatientID']\n",
    "keepImages =  list(ImageNameDataHash.keys())\n",
    "df = df[df['image'].isin(keepImages)]\n",
    "print(len(df)) # 1129"
   ]
  },
  {
   "cell_type": "code",
   "execution_count": 9,
   "metadata": {
    "_uuid": "2d8c229035728a04562a428aed1b685974e172e8"
   },
   "outputs": [
    {
     "name": "stdout",
     "output_type": "stream",
     "text": [
      "['image', 'data']\n",
      "4401\n"
     ]
    }
   ],
   "source": [
    "#convert hash to dataframe\n",
    "imageNameArr = []\n",
    "dataArr = []\n",
    "for index, row in df.iterrows():\n",
    "    key = str(row[0])\n",
    "    if key in ImageNameDataHash:\n",
    "        imageNameArr.append(key)\n",
    "        dataArr.append(np.array(ImageNameDataHash[key])) # np.array\n",
    "\n",
    "df2 = pd.DataFrame({'image': imageNameArr, 'data': dataArr})\n",
    "df2_header_list = list(df2.columns) \n",
    "print(df2_header_list) # ['image', 'data']\n",
    "print(len(df2)) # 1000\n",
    "#print(df2.describe(include='all'))\n",
    "#print(df2.sample(3)) # 3 rows x 2 columns"
   ]
  },
  {
   "cell_type": "code",
   "execution_count": 10,
   "metadata": {
    "_uuid": "ea37d7a5dffecdb0744c223090c98c91ee097ccf"
   },
   "outputs": [
    {
     "name": "stdout",
     "output_type": "stream",
     "text": [
      "image    object\n",
      "data     object\n",
      "dtype: object\n",
      "image        object\n",
      "level         int64\n",
      "PatientID    object\n",
      "dtype: object\n"
     ]
    }
   ],
   "source": [
    "if len(df) != len(df2):\n",
    "    print(\"Error length of df != df2\")\n",
    "    \n",
    "for idx in range(0,len(df)):\n",
    "    if (df.loc[df.index[idx], 'image'] != df2.loc[df2.index[idx], 'image']):\n",
    "        print(\"Error \" + df.loc[df.index[idx], 'image'] +\"==\" + df2.loc[df2.index[idx], 'image'])\n",
    "        \n",
    "print(df2.dtypes)\n",
    "print(df.dtypes)"
   ]
  },
  {
   "cell_type": "code",
   "execution_count": 11,
   "metadata": {
    "_uuid": "c3fd926f29c25be1bd728da76c175e283b1fac83"
   },
   "outputs": [
    {
     "name": "stdout",
     "output_type": "stream",
     "text": [
      "['image', 'data', 'level', 'PatientID']\n",
      "4401\n",
      "        image                                               data  level  \\\n",
      "108  510_left  [[[0.0, 0.0, 0.0], [0.0, 0.0, 0.0], [0.0, 0.0,...      2   \n",
      "\n",
      "    PatientID  \n",
      "108       510  \n"
     ]
    }
   ],
   "source": [
    "df = pd.merge(df2, df, left_on='image', right_on='image', how='outer')\n",
    "df_header_list = list(df.columns) \n",
    "print(df_header_list) # 'image', 'data', level', 'PatientID'\n",
    "print(len(df)) # 1000\n",
    "print(df.sample())"
   ]
  },
  {
   "cell_type": "code",
   "execution_count": 12,
   "metadata": {
    "_uuid": "25fd586d9cc4b7a1beeb2e8c7cdee896f068b8c6"
   },
   "outputs": [
    {
     "name": "stdout",
     "output_type": "stream",
     "text": [
      "[[[0. 0. 0.]\n",
      "  [0. 0. 0.]\n",
      "  [0. 0. 0.]\n",
      "  ...\n",
      "  [0. 0. 0.]\n",
      "  [0. 0. 0.]\n",
      "  [0. 0. 0.]]\n",
      "\n",
      " [[0. 0. 0.]\n",
      "  [0. 0. 0.]\n",
      "  [0. 0. 0.]\n",
      "  ...\n",
      "  [0. 0. 0.]\n",
      "  [0. 0. 0.]\n",
      "  [0. 0. 0.]]\n",
      "\n",
      " [[0. 0. 0.]\n",
      "  [0. 0. 0.]\n",
      "  [0. 0. 0.]\n",
      "  ...\n",
      "  [0. 0. 0.]\n",
      "  [0. 0. 0.]\n",
      "  [0. 0. 0.]]\n",
      "\n",
      " ...\n",
      "\n",
      " [[0. 0. 0.]\n",
      "  [0. 0. 0.]\n",
      "  [0. 0. 0.]\n",
      "  ...\n",
      "  [0. 0. 0.]\n",
      "  [0. 0. 0.]\n",
      "  [0. 0. 0.]]\n",
      "\n",
      " [[0. 0. 0.]\n",
      "  [0. 0. 0.]\n",
      "  [0. 0. 0.]\n",
      "  ...\n",
      "  [0. 0. 0.]\n",
      "  [0. 0. 0.]\n",
      "  [0. 0. 0.]]\n",
      "\n",
      " [[0. 0. 0.]\n",
      "  [0. 0. 0.]\n",
      "  [0. 0. 0.]\n",
      "  ...\n",
      "  [0. 0. 0.]\n",
      "  [0. 0. 0.]\n",
      "  [0. 0. 0.]]]\n",
      "<class 'numpy.ndarray'>\n",
      "(128, 128, 3)\n"
     ]
    },
    {
     "data": {
      "image/png": "[encoded data removed]",
      "text/plain": [
       "<Figure size 432x288 with 1 Axes>"
      ]
     },
     "metadata": {
      "needs_background": "light"
     },
     "output_type": "display_data"
    },
    {
     "name": "stdout",
     "output_type": "stream",
     "text": [
      "Sample Image\n"
     ]
    }
   ],
   "source": [
    "sample0 = df.loc[df.index[0], 'data']\n",
    "print(sample0)\n",
    "print(type(sample0)) # <class 'numpy.ndarray'>\n",
    "print(sample0.shape) # 128,128,3\n",
    "from matplotlib import pyplot as plt\n",
    "plt.imshow(sample0, interpolation='nearest')\n",
    "plt.show()\n",
    "print(\"Sample Image\")"
   ]
  },
  {
   "cell_type": "code",
   "execution_count": 13,
   "metadata": {
    "_uuid": "5de4e16737d21bd5c842e3b3fe7ca16b3177f76a"
   },
   "outputs": [],
   "source": [
    "X = df['data']\n",
    "Y = df['level']\n",
    "# scale the raw pixel intensities to the range [0, 1]\n",
    "#print(type(X)) # 'pandas.core.series.Series'\n",
    "#X = np.array(X, dtype=\"float\") / 255.0 -- TBD moved to top\n",
    "Y = np.array(Y)\n",
    "# convert the labels from integers to vectors\n",
    "Y =  to_categorical(Y, num_classes=NUM_CLASSES)"
   ]
  },
  {
   "cell_type": "code",
   "execution_count": 14,
   "metadata": {
    "_uuid": "4550440da8759c52ed43bfe0737bfa2684e7583c"
   },
   "outputs": [
    {
     "name": "stdout",
     "output_type": "stream",
     "text": [
      "Parttition data into 75:25...\n",
      "Unique patients in dataframe df=2388\n",
      "unique_ids shape=2388\n",
      "trainid_list shape= 1791\n"
     ]
    }
   ],
   "source": [
    "# partition the data into training and testing splits using 75% training and 25% for validation\n",
    "print(\"Parttition data into 75:25...\")\n",
    "sys.stdout.flush()\n",
    "print(\"Unique patients in dataframe df=\" + str(df.PatientID.nunique())) # 565\n",
    "unique_ids = df.PatientID.unique()\n",
    "print('unique_ids shape='+ str(len(unique_ids))) #565\n",
    "\n",
    "# Refer https://www.kaggle.com/kmader/tf-data-tutorial-with-retina-and-keras\n",
    "train_ids, valid_ids = train_test_split(unique_ids, test_size = 0.25, random_state = 10) #stratify = rr_df['level'])\n",
    "trainid_list = train_ids.tolist()\n",
    "print('trainid_list shape=', str(len(trainid_list))) # 423\n",
    "\n",
    "traindf = df[df.PatientID.isin(trainid_list)]\n",
    "valSet = df[~df.PatientID.isin(trainid_list)]"
   ]
  },
  {
   "cell_type": "code",
   "execution_count": 15,
   "metadata": {
    "_uuid": "07f4a9232379f1c7057f9921ad372266caadd887"
   },
   "outputs": [
    {
     "name": "stdout",
     "output_type": "stream",
     "text": [
      "       image                                               data  level  \\\n",
      "0   299_left  [[[0.0, 0.0, 0.0], [0.0, 0.0, 0.0], [0.0, 0.0,...      0   \n",
      "1  299_right  [[[0.0, 0.0, 0.0], [0.0, 0.0, 0.0], [0.0, 0.0,...      0   \n",
      "3   307_left  [[[0.0, 0.0, 0.0], [0.0, 0.0, 0.0], [0.0, 0.0,...      0   \n",
      "4  311_right  [[[0.0, 0.0, 0.0], [0.0, 0.0, 0.0], [0.0, 0.0,...      0   \n",
      "8   320_left  [[[0.0, 0.0, 0.0], [0.0, 0.0, 0.0], [0.0, 0.0,...      1   \n",
      "\n",
      "  PatientID  \n",
      "0       299  \n",
      "1       299  \n",
      "3       307  \n",
      "4       311  \n",
      "8       320  \n",
      "        image                                               data  level  \\\n",
      "2   301_right  [[[0.0, 0.0, 0.0], [0.0, 0.0, 0.0], [0.0, 0.0,...      1   \n",
      "5    316_left  [[[0.0, 0.0, 0.0], [0.0, 0.0, 0.0], [0.0, 0.0,...      0   \n",
      "6   316_right  [[[0.0, 0.0, 0.0], [0.0, 0.0, 0.0], [0.0, 0.0,...      0   \n",
      "7    317_left  [[[0.0, 0.0, 0.0], [0.0, 0.0, 0.0], [0.0, 0.0,...      2   \n",
      "16   326_left  [[[0.0, 0.0, 0.0], [0.0, 0.0, 0.0], [0.0, 0.0,...      4   \n",
      "\n",
      "   PatientID  \n",
      "2        301  \n",
      "5        316  \n",
      "6        316  \n",
      "7        317  \n",
      "16       326  \n",
      "       image                                               data  level  \\\n",
      "0   299_left  [[[0.0, 0.0, 0.0], [0.0, 0.0, 0.0], [0.0, 0.0,...      0   \n",
      "1  299_right  [[[0.0, 0.0, 0.0], [0.0, 0.0, 0.0], [0.0, 0.0,...      0   \n",
      "2   307_left  [[[0.0, 0.0, 0.0], [0.0, 0.0, 0.0], [0.0, 0.0,...      0   \n",
      "3  311_right  [[[0.0, 0.0, 0.0], [0.0, 0.0, 0.0], [0.0, 0.0,...      0   \n",
      "4   320_left  [[[0.0, 0.0, 0.0], [0.0, 0.0, 0.0], [0.0, 0.0,...      1   \n",
      "\n",
      "  PatientID  \n",
      "0       299  \n",
      "1       299  \n",
      "2       307  \n",
      "3       311  \n",
      "4       320  \n",
      "       image                                               data  level  \\\n",
      "0  301_right  [[[0.0, 0.0, 0.0], [0.0, 0.0, 0.0], [0.0, 0.0,...      1   \n",
      "1   316_left  [[[0.0, 0.0, 0.0], [0.0, 0.0, 0.0], [0.0, 0.0,...      0   \n",
      "2  316_right  [[[0.0, 0.0, 0.0], [0.0, 0.0, 0.0], [0.0, 0.0,...      0   \n",
      "3   317_left  [[[0.0, 0.0, 0.0], [0.0, 0.0, 0.0], [0.0, 0.0,...      2   \n",
      "4   326_left  [[[0.0, 0.0, 0.0], [0.0, 0.0, 0.0], [0.0, 0.0,...      4   \n",
      "\n",
      "  PatientID  \n",
      "0       301  \n",
      "1       316  \n",
      "2       316  \n",
      "3       317  \n",
      "4       326  \n"
     ]
    }
   ],
   "source": [
    "print(traindf.head())\n",
    "print(valSet.head())\n",
    "\n",
    "traindf = traindf.reset_index(drop=True)\n",
    "valSet = valSet.reset_index(drop=True)\n",
    "\n",
    "print(traindf.head())\n",
    "print(valSet.head())"
   ]
  },
  {
   "cell_type": "code",
   "execution_count": 16,
   "metadata": {
    "_uuid": "19f9a8d5aba3229deecf254d2db0b7e5c5cbd81f"
   },
   "outputs": [
    {
     "name": "stdout",
     "output_type": "stream",
     "text": [
      "trainX shape= 3307 valX shape= 1094\n"
     ]
    }
   ],
   "source": [
    "trainX = traindf['data']\n",
    "trainY = traindf['level']\n",
    "\n",
    "valX = valSet['data']\n",
    "valY = valSet['level']\n",
    "\n",
    "#(trainX, valX, trainY, valY) = train_test_split(X,Y,test_size=0.25, random_state=10)\n",
    "print('trainX shape=', trainX.shape[0], 'valX shape=', valX.shape[0]) # 750, 250"
   ]
  },
  {
   "cell_type": "code",
   "execution_count": 17,
   "metadata": {
    "_uuid": "6673e914026947e96d26318834ed6ac914ab4e9d"
   },
   "outputs": [],
   "source": [
    "trainY =  to_categorical(trainY, num_classes=NUM_CLASSES)\n",
    "valY =  to_categorical(valY, num_classes=NUM_CLASSES)"
   ]
  },
  {
   "cell_type": "code",
   "execution_count": 18,
   "metadata": {
    "_uuid": "8925ee30a9086c36f0e8f7cc88ff24e177870051"
   },
   "outputs": [
    {
     "name": "stdout",
     "output_type": "stream",
     "text": [
      "Generating images...\n"
     ]
    }
   ],
   "source": [
    "#construct the image generator for data augmentation\n",
    "print(\"Generating images...\")\n",
    "sys.stdout.flush()\n",
    "aug = ImageDataGenerator(rotation_range=30, width_shift_range=0.1, \\\n",
    "    height_shift_range=0.1, shear_range=0.2, zoom_range=0.2,\\\n",
    "    horizontal_flip=True, fill_mode=\"nearest\")"
   ]
  },
  {
   "cell_type": "code",
   "execution_count": 19,
   "metadata": {
    "_uuid": "55ee93f18f850e1fb144e578778a3b5420637684"
   },
   "outputs": [
    {
     "name": "stdout",
     "output_type": "stream",
     "text": [
      "Reshaping trainX at...2021-05-31 13:16:33.702294\n",
      "<class 'pandas.core.series.Series'>\n",
      "(3307,)\n",
      "(3307, 128, 128, 3)\n",
      "Reshaped trainX at...2021-05-31 13:16:34.580918\n"
     ]
    }
   ],
   "source": [
    "\n",
    "print(\"Reshaping trainX at...\"+ str(datetime.now()))\n",
    "#print(trainX.sample()) \n",
    "print(type(trainX)) # <class 'pandas.core.series.Series'>\n",
    "print(trainX.shape) # (750,)\n",
    "from numpy import zeros\n",
    "Xtrain = np.zeros([trainX.shape[0],HEIGHT, WIDTH, DEPTH])\n",
    "for i in range(trainX.shape[0]): # 0 to traindf Size -1\n",
    "    Xtrain[i] = trainX[i]\n",
    "print(Xtrain.shape) # (750,128,128,3)\n",
    "print(\"Reshaped trainX at...\"+ str(datetime.now()))"
   ]
  },
  {
   "cell_type": "code",
   "execution_count": 20,
   "metadata": {
    "_uuid": "ff8002067d4fb19fd8ef9634f3bab2a8daa35b1a"
   },
   "outputs": [],
   "source": [
    "def createModel():\n",
    "    model = Sequential()\n",
    "    # first set of CONV => RELU => MAX POOL layers\n",
    "    model.add(Conv2D(32, (3, 3), padding='same', activation='relu', input_shape=inputShape))\n",
    "    model.add(Conv2D(32, (3, 3), activation='relu'))\n",
    "    model.add(MaxPooling2D(pool_size=(2, 2)))\n",
    "    model.add(Dropout(0.25))\n",
    "    \n",
    "    model.add(Conv2D(64, (3, 3), padding='same', activation='relu'))\n",
    "    model.add(Conv2D(64, (3, 3), activation='relu'))\n",
    "    model.add(MaxPooling2D(pool_size=(2, 2)))\n",
    "    model.add(Dropout(0.25))\n",
    "    \n",
    "    model.add(Conv2D(64, (3, 3), padding='same', activation='relu'))\n",
    "    model.add(Conv2D(64, (3, 3), activation='relu'))\n",
    "    model.add(MaxPooling2D(pool_size=(2, 2)))\n",
    "    model.add(Dropout(0.25))\n",
    "    \n",
    "    model.add(Flatten())\n",
    "    model.add(Dense(512, activation='relu'))\n",
    "    model.add(Dropout(0.5))\n",
    "    model.add(Dense(NUM_CLASSES, activation='softmax'))\n",
    "    # returns our fully constructed deep learning + Keras image classifier \n",
    "    opt = Adam(lr=INIT_LR, decay=INIT_LR / EPOCHS)\n",
    "    # use binary_crossentropy if there are two classes\n",
    "    model.compile(loss=\"categorical_crossentropy\", optimizer=opt, metrics=[\"accuracy\"])\n",
    "    return model"
   ]
  },
  {
   "cell_type": "code",
   "execution_count": 21,
   "metadata": {},
   "outputs": [
    {
     "name": "stdout",
     "output_type": "stream",
     "text": [
      "Reshaping ValX at....2021-05-31 13:16:41.354720\n",
      "<class 'pandas.core.series.Series'>\n",
      "(1094,)\n",
      "(1094, 128, 128, 3)\n",
      "Reshaped trainX at....2021-05-31 13:16:41.942150\n"
     ]
    }
   ],
   "source": [
    "print(\"Reshaping ValX at....\"+ str(datetime.now()))\n",
    "print(type(valX))\n",
    "print(valX.shape)\n",
    "from numpy import zeros\n",
    "Xval=np.zeros([valX.shape[0],HEIGHT, WIDTH, DEPTH])\n",
    "for i in range(valX.shape[0]):\n",
    "    Xval[i] = valX[i]\n",
    "print(Xval.shape)\n",
    "print(\"Reshaped trainX at....\"+ str(datetime.now()))"
   ]
  },
  {
   "cell_type": "code",
   "execution_count": 22,
   "metadata": {
    "_uuid": "6a66f5862854d1b03730a172f38ef25465fd2421"
   },
   "outputs": [
    {
     "name": "stdout",
     "output_type": "stream",
     "text": [
      "compiling model...\n"
     ]
    },
    {
     "data": {
      "image/svg+xml": [
       "<svg xmlns=\"http://www.w3.org/2000/svg\" xmlns:xlink=\"http://www.w3.org/1999/xlink\" width=\"347pt\" height=\"1617pt\" viewBox=\"0.00 0.00 260.00 1213.00\">\n",
       "<g id=\"graph0\" class=\"graph\" transform=\"scale(0.75 0.75) rotate(0) translate(4 1209)\">\n",
       "<title>G</title>\n",
       "<polygon fill=\"white\" stroke=\"transparent\" points=\"-4,4 -4,-1209 256,-1209 256,4 -4,4\"/>\n",
       "<!-- 139852532688304 -->\n",
       "<g id=\"node1\" class=\"node\">\n",
       "<title>139852532688304</title>\n",
       "<polygon fill=\"none\" stroke=\"black\" points=\"26,-1168.5 26,-1204.5 226,-1204.5 226,-1168.5 26,-1168.5\"/>\n",
       "<text text-anchor=\"middle\" x=\"126\" y=\"-1182.8\" font-family=\"Times,serif\" font-size=\"14.00\">conv2d_input: InputLayer</text>\n",
       "</g>\n",
       "<!-- 139852533112208 -->\n",
       "<g id=\"node2\" class=\"node\">\n",
       "<title>139852533112208</title>\n",
       "<polygon fill=\"none\" stroke=\"black\" points=\"59.5,-1095.5 59.5,-1131.5 192.5,-1131.5 192.5,-1095.5 59.5,-1095.5\"/>\n",
       "<text text-anchor=\"middle\" x=\"126\" y=\"-1109.8\" font-family=\"Times,serif\" font-size=\"14.00\">conv2d: Conv2D</text>\n",
       "</g>\n",
       "<!-- 139852532688304&#45;&gt;139852533112208 -->\n",
       "<g id=\"edge1\" class=\"edge\">\n",
       "<title>139852532688304-&gt;139852533112208</title>\n",
       "<path fill=\"none\" stroke=\"black\" d=\"M126,-1168.31C126,-1160.29 126,-1150.55 126,-1141.57\"/>\n",
       "<polygon fill=\"black\" stroke=\"black\" points=\"129.5,-1141.53 126,-1131.53 122.5,-1141.53 129.5,-1141.53\"/>\n",
       "</g>\n",
       "<!-- 139852532690752 -->\n",
       "<g id=\"node3\" class=\"node\">\n",
       "<title>139852532690752</title>\n",
       "<polygon fill=\"none\" stroke=\"black\" points=\"51.5,-1022.5 51.5,-1058.5 200.5,-1058.5 200.5,-1022.5 51.5,-1022.5\"/>\n",
       "<text text-anchor=\"middle\" x=\"126\" y=\"-1036.8\" font-family=\"Times,serif\" font-size=\"14.00\">conv2d_1: Conv2D</text>\n",
       "</g>\n",
       "<!-- 139852533112208&#45;&gt;139852532690752 -->\n",
       "<g id=\"edge2\" class=\"edge\">\n",
       "<title>139852533112208-&gt;139852532690752</title>\n",
       "<path fill=\"none\" stroke=\"black\" d=\"M126,-1095.31C126,-1087.29 126,-1077.55 126,-1068.57\"/>\n",
       "<polygon fill=\"black\" stroke=\"black\" points=\"129.5,-1068.53 126,-1058.53 122.5,-1068.53 129.5,-1068.53\"/>\n",
       "</g>\n",
       "<!-- 139852524151904 -->\n",
       "<g id=\"node4\" class=\"node\">\n",
       "<title>139852524151904</title>\n",
       "<polygon fill=\"none\" stroke=\"black\" points=\"8,-949.5 8,-985.5 244,-985.5 244,-949.5 8,-949.5\"/>\n",
       "<text text-anchor=\"middle\" x=\"126\" y=\"-963.8\" font-family=\"Times,serif\" font-size=\"14.00\">max_pooling2d: MaxPooling2D</text>\n",
       "</g>\n",
       "<!-- 139852532690752&#45;&gt;139852524151904 -->\n",
       "<g id=\"edge3\" class=\"edge\">\n",
       "<title>139852532690752-&gt;139852524151904</title>\n",
       "<path fill=\"none\" stroke=\"black\" d=\"M126,-1022.31C126,-1014.29 126,-1004.55 126,-995.57\"/>\n",
       "<polygon fill=\"black\" stroke=\"black\" points=\"129.5,-995.53 126,-985.53 122.5,-995.53 129.5,-995.53\"/>\n",
       "</g>\n",
       "<!-- 139852524154544 -->\n",
       "<g id=\"node5\" class=\"node\">\n",
       "<title>139852524154544</title>\n",
       "<polygon fill=\"none\" stroke=\"black\" points=\"56,-876.5 56,-912.5 196,-912.5 196,-876.5 56,-876.5\"/>\n",
       "<text text-anchor=\"middle\" x=\"126\" y=\"-890.8\" font-family=\"Times,serif\" font-size=\"14.00\">dropout: Dropout</text>\n",
       "</g>\n",
       "<!-- 139852524151904&#45;&gt;139852524154544 -->\n",
       "<g id=\"edge4\" class=\"edge\">\n",
       "<title>139852524151904-&gt;139852524154544</title>\n",
       "<path fill=\"none\" stroke=\"black\" d=\"M126,-949.31C126,-941.29 126,-931.55 126,-922.57\"/>\n",
       "<polygon fill=\"black\" stroke=\"black\" points=\"129.5,-922.53 126,-912.53 122.5,-922.53 129.5,-922.53\"/>\n",
       "</g>\n",
       "<!-- 139852524160480 -->\n",
       "<g id=\"node6\" class=\"node\">\n",
       "<title>139852524160480</title>\n",
       "<polygon fill=\"none\" stroke=\"black\" points=\"51.5,-803.5 51.5,-839.5 200.5,-839.5 200.5,-803.5 51.5,-803.5\"/>\n",
       "<text text-anchor=\"middle\" x=\"126\" y=\"-817.8\" font-family=\"Times,serif\" font-size=\"14.00\">conv2d_2: Conv2D</text>\n",
       "</g>\n",
       "<!-- 139852524154544&#45;&gt;139852524160480 -->\n",
       "<g id=\"edge5\" class=\"edge\">\n",
       "<title>139852524154544-&gt;139852524160480</title>\n",
       "<path fill=\"none\" stroke=\"black\" d=\"M126,-876.31C126,-868.29 126,-858.55 126,-849.57\"/>\n",
       "<polygon fill=\"black\" stroke=\"black\" points=\"129.5,-849.53 126,-839.53 122.5,-849.53 129.5,-849.53\"/>\n",
       "</g>\n",
       "<!-- 139850583343600 -->\n",
       "<g id=\"node7\" class=\"node\">\n",
       "<title>139850583343600</title>\n",
       "<polygon fill=\"none\" stroke=\"black\" points=\"51.5,-730.5 51.5,-766.5 200.5,-766.5 200.5,-730.5 51.5,-730.5\"/>\n",
       "<text text-anchor=\"middle\" x=\"126\" y=\"-744.8\" font-family=\"Times,serif\" font-size=\"14.00\">conv2d_3: Conv2D</text>\n",
       "</g>\n",
       "<!-- 139852524160480&#45;&gt;139850583343600 -->\n",
       "<g id=\"edge6\" class=\"edge\">\n",
       "<title>139852524160480-&gt;139850583343600</title>\n",
       "<path fill=\"none\" stroke=\"black\" d=\"M126,-803.31C126,-795.29 126,-785.55 126,-776.57\"/>\n",
       "<polygon fill=\"black\" stroke=\"black\" points=\"129.5,-776.53 126,-766.53 122.5,-776.53 129.5,-776.53\"/>\n",
       "</g>\n",
       "<!-- 139850583359792 -->\n",
       "<g id=\"node8\" class=\"node\">\n",
       "<title>139850583359792</title>\n",
       "<polygon fill=\"none\" stroke=\"black\" points=\"0,-657.5 0,-693.5 252,-693.5 252,-657.5 0,-657.5\"/>\n",
       "<text text-anchor=\"middle\" x=\"126\" y=\"-671.8\" font-family=\"Times,serif\" font-size=\"14.00\">max_pooling2d_1: MaxPooling2D</text>\n",
       "</g>\n",
       "<!-- 139850583343600&#45;&gt;139850583359792 -->\n",
       "<g id=\"edge7\" class=\"edge\">\n",
       "<title>139850583343600-&gt;139850583359792</title>\n",
       "<path fill=\"none\" stroke=\"black\" d=\"M126,-730.31C126,-722.29 126,-712.55 126,-703.57\"/>\n",
       "<polygon fill=\"black\" stroke=\"black\" points=\"129.5,-703.53 126,-693.53 122.5,-703.53 129.5,-703.53\"/>\n",
       "</g>\n",
       "<!-- 139852524159760 -->\n",
       "<g id=\"node9\" class=\"node\">\n",
       "<title>139852524159760</title>\n",
       "<polygon fill=\"none\" stroke=\"black\" points=\"48,-584.5 48,-620.5 204,-620.5 204,-584.5 48,-584.5\"/>\n",
       "<text text-anchor=\"middle\" x=\"126\" y=\"-598.8\" font-family=\"Times,serif\" font-size=\"14.00\">dropout_1: Dropout</text>\n",
       "</g>\n",
       "<!-- 139850583359792&#45;&gt;139852524159760 -->\n",
       "<g id=\"edge8\" class=\"edge\">\n",
       "<title>139850583359792-&gt;139852524159760</title>\n",
       "<path fill=\"none\" stroke=\"black\" d=\"M126,-657.31C126,-649.29 126,-639.55 126,-630.57\"/>\n",
       "<polygon fill=\"black\" stroke=\"black\" points=\"129.5,-630.53 126,-620.53 122.5,-630.53 129.5,-630.53\"/>\n",
       "</g>\n",
       "<!-- 139850583376800 -->\n",
       "<g id=\"node10\" class=\"node\">\n",
       "<title>139850583376800</title>\n",
       "<polygon fill=\"none\" stroke=\"black\" points=\"51.5,-511.5 51.5,-547.5 200.5,-547.5 200.5,-511.5 51.5,-511.5\"/>\n",
       "<text text-anchor=\"middle\" x=\"126\" y=\"-525.8\" font-family=\"Times,serif\" font-size=\"14.00\">conv2d_4: Conv2D</text>\n",
       "</g>\n",
       "<!-- 139852524159760&#45;&gt;139850583376800 -->\n",
       "<g id=\"edge9\" class=\"edge\">\n",
       "<title>139852524159760-&gt;139850583376800</title>\n",
       "<path fill=\"none\" stroke=\"black\" d=\"M126,-584.31C126,-576.29 126,-566.55 126,-557.57\"/>\n",
       "<polygon fill=\"black\" stroke=\"black\" points=\"129.5,-557.53 126,-547.53 122.5,-557.53 129.5,-557.53\"/>\n",
       "</g>\n",
       "<!-- 139850583361424 -->\n",
       "<g id=\"node11\" class=\"node\">\n",
       "<title>139850583361424</title>\n",
       "<polygon fill=\"none\" stroke=\"black\" points=\"51.5,-438.5 51.5,-474.5 200.5,-474.5 200.5,-438.5 51.5,-438.5\"/>\n",
       "<text text-anchor=\"middle\" x=\"126\" y=\"-452.8\" font-family=\"Times,serif\" font-size=\"14.00\">conv2d_5: Conv2D</text>\n",
       "</g>\n",
       "<!-- 139850583376800&#45;&gt;139850583361424 -->\n",
       "<g id=\"edge10\" class=\"edge\">\n",
       "<title>139850583376800-&gt;139850583361424</title>\n",
       "<path fill=\"none\" stroke=\"black\" d=\"M126,-511.31C126,-503.29 126,-493.55 126,-484.57\"/>\n",
       "<polygon fill=\"black\" stroke=\"black\" points=\"129.5,-484.53 126,-474.53 122.5,-484.53 129.5,-484.53\"/>\n",
       "</g>\n",
       "<!-- 139850583377424 -->\n",
       "<g id=\"node12\" class=\"node\">\n",
       "<title>139850583377424</title>\n",
       "<polygon fill=\"none\" stroke=\"black\" points=\"0,-365.5 0,-401.5 252,-401.5 252,-365.5 0,-365.5\"/>\n",
       "<text text-anchor=\"middle\" x=\"126\" y=\"-379.8\" font-family=\"Times,serif\" font-size=\"14.00\">max_pooling2d_2: MaxPooling2D</text>\n",
       "</g>\n",
       "<!-- 139850583361424&#45;&gt;139850583377424 -->\n",
       "<g id=\"edge11\" class=\"edge\">\n",
       "<title>139850583361424-&gt;139850583377424</title>\n",
       "<path fill=\"none\" stroke=\"black\" d=\"M126,-438.31C126,-430.29 126,-420.55 126,-411.57\"/>\n",
       "<polygon fill=\"black\" stroke=\"black\" points=\"129.5,-411.53 126,-401.53 122.5,-411.53 129.5,-411.53\"/>\n",
       "</g>\n",
       "<!-- 139850583416784 -->\n",
       "<g id=\"node13\" class=\"node\">\n",
       "<title>139850583416784</title>\n",
       "<polygon fill=\"none\" stroke=\"black\" points=\"48,-292.5 48,-328.5 204,-328.5 204,-292.5 48,-292.5\"/>\n",
       "<text text-anchor=\"middle\" x=\"126\" y=\"-306.8\" font-family=\"Times,serif\" font-size=\"14.00\">dropout_2: Dropout</text>\n",
       "</g>\n",
       "<!-- 139850583377424&#45;&gt;139850583416784 -->\n",
       "<g id=\"edge12\" class=\"edge\">\n",
       "<title>139850583377424-&gt;139850583416784</title>\n",
       "<path fill=\"none\" stroke=\"black\" d=\"M126,-365.31C126,-357.29 126,-347.55 126,-338.57\"/>\n",
       "<polygon fill=\"black\" stroke=\"black\" points=\"129.5,-338.53 126,-328.53 122.5,-338.53 129.5,-338.53\"/>\n",
       "</g>\n",
       "<!-- 139850583459152 -->\n",
       "<g id=\"node14\" class=\"node\">\n",
       "<title>139850583459152</title>\n",
       "<polygon fill=\"none\" stroke=\"black\" points=\"64,-219.5 64,-255.5 188,-255.5 188,-219.5 64,-219.5\"/>\n",
       "<text text-anchor=\"middle\" x=\"126\" y=\"-233.8\" font-family=\"Times,serif\" font-size=\"14.00\">flatten: Flatten</text>\n",
       "</g>\n",
       "<!-- 139850583416784&#45;&gt;139850583459152 -->\n",
       "<g id=\"edge13\" class=\"edge\">\n",
       "<title>139850583416784-&gt;139850583459152</title>\n",
       "<path fill=\"none\" stroke=\"black\" d=\"M126,-292.31C126,-284.29 126,-274.55 126,-265.57\"/>\n",
       "<polygon fill=\"black\" stroke=\"black\" points=\"129.5,-265.53 126,-255.53 122.5,-265.53 129.5,-265.53\"/>\n",
       "</g>\n",
       "<!-- 139850583415968 -->\n",
       "<g id=\"node15\" class=\"node\">\n",
       "<title>139850583415968</title>\n",
       "<polygon fill=\"none\" stroke=\"black\" points=\"70,-146.5 70,-182.5 182,-182.5 182,-146.5 70,-146.5\"/>\n",
       "<text text-anchor=\"middle\" x=\"126\" y=\"-160.8\" font-family=\"Times,serif\" font-size=\"14.00\">dense: Dense</text>\n",
       "</g>\n",
       "<!-- 139850583459152&#45;&gt;139850583415968 -->\n",
       "<g id=\"edge14\" class=\"edge\">\n",
       "<title>139850583459152-&gt;139850583415968</title>\n",
       "<path fill=\"none\" stroke=\"black\" d=\"M126,-219.31C126,-211.29 126,-201.55 126,-192.57\"/>\n",
       "<polygon fill=\"black\" stroke=\"black\" points=\"129.5,-192.53 126,-182.53 122.5,-192.53 129.5,-192.53\"/>\n",
       "</g>\n",
       "<!-- 139850582971680 -->\n",
       "<g id=\"node16\" class=\"node\">\n",
       "<title>139850582971680</title>\n",
       "<polygon fill=\"none\" stroke=\"black\" points=\"48,-73.5 48,-109.5 204,-109.5 204,-73.5 48,-73.5\"/>\n",
       "<text text-anchor=\"middle\" x=\"126\" y=\"-87.8\" font-family=\"Times,serif\" font-size=\"14.00\">dropout_3: Dropout</text>\n",
       "</g>\n",
       "<!-- 139850583415968&#45;&gt;139850582971680 -->\n",
       "<g id=\"edge15\" class=\"edge\">\n",
       "<title>139850583415968-&gt;139850582971680</title>\n",
       "<path fill=\"none\" stroke=\"black\" d=\"M126,-146.31C126,-138.29 126,-128.55 126,-119.57\"/>\n",
       "<polygon fill=\"black\" stroke=\"black\" points=\"129.5,-119.53 126,-109.53 122.5,-119.53 129.5,-119.53\"/>\n",
       "</g>\n",
       "<!-- 139850582973648 -->\n",
       "<g id=\"node17\" class=\"node\">\n",
       "<title>139850582973648</title>\n",
       "<polygon fill=\"none\" stroke=\"black\" points=\"62,-0.5 62,-36.5 190,-36.5 190,-0.5 62,-0.5\"/>\n",
       "<text text-anchor=\"middle\" x=\"126\" y=\"-14.8\" font-family=\"Times,serif\" font-size=\"14.00\">dense_1: Dense</text>\n",
       "</g>\n",
       "<!-- 139850582971680&#45;&gt;139850582973648 -->\n",
       "<g id=\"edge16\" class=\"edge\">\n",
       "<title>139850582971680-&gt;139850582973648</title>\n",
       "<path fill=\"none\" stroke=\"black\" d=\"M126,-73.31C126,-65.29 126,-55.55 126,-46.57\"/>\n",
       "<polygon fill=\"black\" stroke=\"black\" points=\"129.5,-46.53 126,-36.53 122.5,-46.53 129.5,-46.53\"/>\n",
       "</g>\n",
       "</g>\n",
       "</svg>"
      ],
      "text/plain": [
       "<IPython.core.display.SVG object>"
      ]
     },
     "execution_count": 22,
     "metadata": {},
     "output_type": "execute_result"
    }
   ],
   "source": [
    "# initialize the model\n",
    "print(\"compiling model...\")\n",
    "sys.stdout.flush()\n",
    "model = createModel()\n",
    "\n",
    "# print the summary of model\n",
    "#from keras.utils  import print_summary\n",
    "#print_summary(model, line_length=None, positions=None, print_fn=None)\n",
    "\n",
    "# add some visualization\n",
    "from IPython.display import SVG\n",
    "from keras.utils.vis_utils import model_to_dot\n",
    "SVG(model_to_dot(model).create(prog='dot', format='svg'))"
   ]
  },
  {
   "cell_type": "code",
   "execution_count": 23,
   "metadata": {
    "_uuid": "701909840ec8ee1f5da90a8cac0902d880d4f79a"
   },
   "outputs": [
    {
     "name": "stdout",
     "output_type": "stream",
     "text": [
      "training network...\n",
      "WARNING:tensorflow:From <ipython-input-23-0968da9e00ab>:5: Model.fit_generator (from tensorflow.python.keras.engine.training) is deprecated and will be removed in a future version.\n",
      "Instructions for updating:\n",
      "Please use Model.fit, which supports generators.\n",
      "Epoch 1/15\n",
      "103/103 [==============================] - 166s 2s/step - loss: 0.9181 - accuracy: 0.7322 - val_loss: 0.8914 - val_accuracy: 0.7230\n",
      "Epoch 2/15\n",
      "103/103 [==============================] - 168s 2s/step - loss: 0.8793 - accuracy: 0.7359 - val_loss: 0.8776 - val_accuracy: 0.7230\n",
      "Epoch 3/15\n",
      "103/103 [==============================] - 154s 1s/step - loss: 0.8845 - accuracy: 0.7380 - val_loss: 0.8753 - val_accuracy: 0.7230\n",
      "Epoch 4/15\n",
      "103/103 [==============================] - 152s 1s/step - loss: 0.8728 - accuracy: 0.7383 - val_loss: 0.8793 - val_accuracy: 0.7230\n",
      "Epoch 5/15\n",
      "103/103 [==============================] - 148s 1s/step - loss: 0.8845 - accuracy: 0.7356 - val_loss: 0.9009 - val_accuracy: 0.7230\n",
      "Epoch 6/15\n",
      "103/103 [==============================] - 143s 1s/step - loss: 0.8740 - accuracy: 0.7371 - val_loss: 0.8732 - val_accuracy: 0.7230\n",
      "Epoch 7/15\n",
      "103/103 [==============================] - 144s 1s/step - loss: 0.8739 - accuracy: 0.7368 - val_loss: 0.8770 - val_accuracy: 0.7230\n",
      "Epoch 8/15\n",
      "103/103 [==============================] - 153s 1s/step - loss: 0.8817 - accuracy: 0.7371 - val_loss: 0.8813 - val_accuracy: 0.7230\n",
      "Epoch 9/15\n",
      "103/103 [==============================] - 144s 1s/step - loss: 0.8792 - accuracy: 0.7353 - val_loss: 0.8757 - val_accuracy: 0.7230\n",
      "Epoch 10/15\n",
      "103/103 [==============================] - 143s 1s/step - loss: 0.8783 - accuracy: 0.7362 - val_loss: 0.8876 - val_accuracy: 0.7230\n",
      "Epoch 11/15\n",
      "103/103 [==============================] - 144s 1s/step - loss: 0.8719 - accuracy: 0.7374 - val_loss: 0.8768 - val_accuracy: 0.7230\n",
      "Epoch 12/15\n",
      "103/103 [==============================] - 143s 1s/step - loss: 0.8752 - accuracy: 0.7368 - val_loss: 0.8747 - val_accuracy: 0.7230\n",
      "Epoch 13/15\n",
      "103/103 [==============================] - 142s 1s/step - loss: 0.8768 - accuracy: 0.7353 - val_loss: 0.8782 - val_accuracy: 0.7230\n",
      "Epoch 14/15\n",
      "103/103 [==============================] - 144s 1s/step - loss: 0.8813 - accuracy: 0.7371 - val_loss: 0.8772 - val_accuracy: 0.7230\n",
      "Epoch 15/15\n",
      "103/103 [==============================] - 142s 1s/step - loss: 0.8741 - accuracy: 0.7365 - val_loss: 0.8762 - val_accuracy: 0.7230\n",
      "Saving model to disk\n"
     ]
    }
   ],
   "source": [
    "# train the network\n",
    "print(\"training network...\")\n",
    "sys.stdout.flush()\n",
    "#class_mode ='categorical', # 2D one-hot encoded labels\n",
    "H = model.fit_generator(aug.flow(Xtrain, trainY, batch_size=BS), \\\n",
    "    validation_data=(Xval, valY), \\\n",
    "    steps_per_epoch=len(trainX) // BS, \\\n",
    "    epochs=EPOCHS, verbose=1)\n",
    "\n",
    "# save the model to disk\n",
    "print(\"Saving model to disk\")\n",
    "sys.stdout.flush()\n",
    "model.save(\"mymodel.h5\")"
   ]
  },
  {
   "cell_type": "code",
   "execution_count": 24,
   "metadata": {
    "_uuid": "ebaac96c16fc39a6665ac3e8917ca856029f12dc"
   },
   "outputs": [
    {
     "name": "stdout",
     "output_type": "stream",
     "text": [
      "Generating plots...\n"
     ]
    },
    {
     "data": {
      "image/png": "[encoded data removed]",
      "text/plain": [
       "<Figure size 432x288 with 1 Axes>"
      ]
     },
     "metadata": {},
     "output_type": "display_data"
    }
   ],
   "source": [
    "# set the matplotlib backend so figures can be saved in the background\n",
    "# plot the training loss and accuracy\n",
    "print(\"Generating plots...\")\n",
    "#sys.stdout.flush()\n",
    "matplotlib.use(\"Agg\")\n",
    "matplotlib.pyplot.style.use(\"ggplot\")\n",
    "matplotlib.pyplot.figure()\n",
    "N = EPOCHS\n",
    "matplotlib.pyplot.plot(np.arange(0, N), H.history[\"loss\"], label=\"train_loss\")\n",
    "matplotlib.pyplot.plot(np.arange(0, N), H.history[\"val_loss\"], label=\"val_loss\")\n",
    "matplotlib.pyplot.plot(np.arange(0, N), H.history[\"accuracy\"], label=\"train_acc\")\n",
    "matplotlib.pyplot.plot(np.arange(0, N), H.history[\"val_accuracy\"], label=\"val_acc\")\n",
    "matplotlib.pyplot.title(\"Training Loss and Accuracy on diabetic retinopathy detection\")\n",
    "matplotlib.pyplot.xlabel(\"Epoch #\")\n",
    "matplotlib.pyplot.ylabel(\"Loss/Accuracy\")\n",
    "matplotlib.pyplot.legend(loc=\"lower left\")\n",
    "matplotlib.pyplot.savefig(\"plot.png\")"
   ]
  },
  {
   "cell_type": "code",
   "execution_count": null,
   "metadata": {},
   "outputs": [],
   "source": []
  }
 ],
 "metadata": {
  "kernelspec": {
   "display_name": "Python 3",
   "language": "python",
   "name": "python3"
  },
  "language_info": {
   "codemirror_mode": {
    "name": "ipython",
    "version": 3
   },
   "file_extension": ".py",
   "mimetype": "text/x-python",
   "name": "python",
   "nbconvert_exporter": "python",
   "pygments_lexer": "ipython3",
   "version": "3.8.5"
  }
 },
 "nbformat": 4,
 "nbformat_minor": 1
}
